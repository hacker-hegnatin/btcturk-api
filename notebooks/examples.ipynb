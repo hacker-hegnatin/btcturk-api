{
 "cells": [
  {
   "cell_type": "code",
   "execution_count": 184,
   "id": "3f6d1825-2946-4594-84f8-88879ee59608",
   "metadata": {},
   "outputs": [],
   "source": [
    "import sys\n",
    "sys.path.append('../')"
   ]
  },
  {
   "cell_type": "code",
   "execution_count": 217,
   "id": "cf8e702d-2b82-477f-bae4-4af376f6ec5e",
   "metadata": {},
   "outputs": [],
   "source": [
    "public_key = 'ea13e7fe-bb09-46f4-a0a6-1795443ec0d1'\n",
    "private_key = 'XvJd65muYmFdD6bA9gO5KrDLzHT24ZRr'"
   ]
  },
  {
   "cell_type": "code",
   "execution_count": null,
   "id": "1118bed2-b74a-47ba-98ac-9aed44466760",
   "metadata": {},
   "outputs": [],
   "source": []
  },
  {
   "cell_type": "code",
   "execution_count": 218,
   "id": "a62e75f4-cfa9-4bd9-be0e-7d060953ee7d",
   "metadata": {},
   "outputs": [
    {
     "name": "stdout",
     "output_type": "stream",
     "text": [
      "The autoreload extension is already loaded. To reload it, use:\n",
      "  %reload_ext autoreload\n"
     ]
    }
   ],
   "source": [
    "%load_ext autoreload\n",
    "%autoreload 2"
   ]
  },
  {
   "cell_type": "code",
   "execution_count": null,
   "id": "64db49e3-7205-482a-87f2-fe79d523d9db",
   "metadata": {},
   "outputs": [],
   "source": []
  },
  {
   "cell_type": "code",
   "execution_count": 246,
   "id": "dfdd2fe0-8094-4878-a722-34986088b1d0",
   "metadata": {},
   "outputs": [],
   "source": [
    "import requests\n",
    "import threading\n",
    "\n",
    "import src\n",
    "from src.rest_api.public_access import (\n",
    "    get_pair_info,\n",
    "    get_all_pairs_info,\n",
    "    get_orderbook,\n",
    "    get_trades,\n",
    "    get_ohlcs,\n",
    "    get_klines\n",
    ")\n",
    "from src.rest_api.private_access import (\n",
    "    get_account_balance,\n",
    "    get_account_orders,\n",
    "    submit_order,\n",
    "    cancel_order\n",
    ")"
   ]
  },
  {
   "cell_type": "code",
   "execution_count": null,
   "id": "26bb4234-0092-4c0a-b643-2022f9c96449",
   "metadata": {},
   "outputs": [],
   "source": []
  },
  {
   "cell_type": "code",
   "execution_count": 249,
   "id": "b848aa30-9b93-48a8-863f-a263ea72bd6b",
   "metadata": {},
   "outputs": [],
   "source": [
    "r = get_account_balance(\n",
    "    api_key=public_key, \n",
    "    api_secret=private_key, \n",
    ")"
   ]
  },
  {
   "cell_type": "code",
   "execution_count": null,
   "id": "28f50542-265c-4096-9b73-881d7406d6ab",
   "metadata": {},
   "outputs": [],
   "source": []
  },
  {
   "cell_type": "code",
   "execution_count": 252,
   "id": "43c1ae56-47ab-4ac8-9afc-41a9bd4ba4cc",
   "metadata": {},
   "outputs": [
    {
     "data": {
      "text/plain": [
       "{'data': [{'pair': 'BTCTRY',\n",
       "   'pairNormalized': 'BTC_TRY',\n",
       "   'timestamp': 1694113496312,\n",
       "   'last': 698550,\n",
       "   'high': 710110,\n",
       "   'low': 692370,\n",
       "   'bid': 697591,\n",
       "   'ask': 698500,\n",
       "   'open': 693198,\n",
       "   'volume': 44.69086424,\n",
       "   'average': 696432,\n",
       "   'daily': 5302,\n",
       "   'dailyPercent': 0.77,\n",
       "   'denominatorSymbol': 'TRY',\n",
       "   'numeratorSymbol': 'BTC',\n",
       "   'order': 1000}],\n",
       " 'success': True,\n",
       " 'message': None,\n",
       " 'code': 0}"
      ]
     },
     "execution_count": 252,
     "metadata": {},
     "output_type": "execute_result"
    }
   ],
   "source": [
    "get_pair_info(pair='BTCTRY')"
   ]
  },
  {
   "cell_type": "code",
   "execution_count": null,
   "id": "2a09924c-b9f2-45ac-b67d-46dd86741d32",
   "metadata": {},
   "outputs": [],
   "source": []
  },
  {
   "cell_type": "code",
   "execution_count": 253,
   "id": "963d7d3c-5fa6-4323-abca-20b0b95ead72",
   "metadata": {},
   "outputs": [],
   "source": [
    "r = submit_order(\n",
    "    api_key=public_key, \n",
    "    api_secret=private_key, \n",
    "    order_method='limit', \n",
    "    quantity=0.0005,\n",
    "    price=697591,\n",
    "    order_type='buy'\n",
    ")"
   ]
  },
  {
   "cell_type": "code",
   "execution_count": null,
   "id": "40320369-0eec-46de-a2f9-290474dc9ff2",
   "metadata": {},
   "outputs": [],
   "source": []
  },
  {
   "cell_type": "code",
   "execution_count": 247,
   "id": "585c7378-c2ba-474d-a84a-58a26cd076a3",
   "metadata": {},
   "outputs": [
    {
     "data": {
      "text/plain": [
       "{'data': {'asks': [],\n",
       "  'bids': [{'id': 16578362775,\n",
       "    'price': '698003',\n",
       "    'amount': '0.00077200',\n",
       "    'quantity': '0.00077200',\n",
       "    'stopPrice': '0',\n",
       "    'pairSymbol': 'BTCTRY',\n",
       "    'pairSymbolNormalized': 'BTC_TRY',\n",
       "    'type': 'buy',\n",
       "    'method': 'limit',\n",
       "    'orderClientId': 'STB',\n",
       "    'time': 0,\n",
       "    'updateTime': 1694113039840,\n",
       "    'status': 'Untouched',\n",
       "    'leftAmount': '0.00077200'}]},\n",
       " 'success': True,\n",
       " 'message': None,\n",
       " 'code': 0}"
      ]
     },
     "execution_count": 247,
     "metadata": {},
     "output_type": "execute_result"
    }
   ],
   "source": [
    "get_account_orders(\n",
    "    api_key=public_key, \n",
    "    api_secret=private_key\n",
    ")"
   ]
  },
  {
   "cell_type": "code",
   "execution_count": null,
   "id": "12ba4f36-c90c-4ad9-b662-08af3380abb8",
   "metadata": {},
   "outputs": [],
   "source": []
  },
  {
   "cell_type": "code",
   "execution_count": 255,
   "id": "b3fe116a-5c0a-47a5-91f2-2088b75e72f1",
   "metadata": {},
   "outputs": [
    {
     "data": {
      "text/plain": [
       "{'success': True, 'message': 'SUCCESS', 'code': 0}"
      ]
     },
     "execution_count": 255,
     "metadata": {},
     "output_type": "execute_result"
    }
   ],
   "source": [
    "cancel_order(\n",
    "    api_key=public_key, \n",
    "    api_secret=private_key, \n",
    "    order_id=16578433328\n",
    ")"
   ]
  },
  {
   "cell_type": "code",
   "execution_count": null,
   "id": "e0d05fd9-5766-4de1-9cb2-bae0a4780fe4",
   "metadata": {},
   "outputs": [],
   "source": []
  }
 ],
 "metadata": {
  "kernelspec": {
   "display_name": "Python 3",
   "language": "python",
   "name": "python3"
  },
  "language_info": {
   "codemirror_mode": {
    "name": "ipython",
    "version": 3
   },
   "file_extension": ".py",
   "mimetype": "text/x-python",
   "name": "python",
   "nbconvert_exporter": "python",
   "pygments_lexer": "ipython3",
   "version": "3.8.3"
  }
 },
 "nbformat": 4,
 "nbformat_minor": 5
}
