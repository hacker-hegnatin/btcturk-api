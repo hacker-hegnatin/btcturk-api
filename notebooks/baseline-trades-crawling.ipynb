{
 "cells": [
  {
   "cell_type": "code",
   "execution_count": 1,
   "id": "adf5b2df-611e-4eed-9eca-0f0c8691177c",
   "metadata": {},
   "outputs": [],
   "source": [
    "%load_ext autoreload\n",
    "%autoreload 2"
   ]
  },
  {
   "cell_type": "code",
   "execution_count": 2,
   "id": "f0c4ef8b-d045-4bd2-b2f9-78aa88c56cd8",
   "metadata": {},
   "outputs": [],
   "source": [
    "public_key = 'f20f7f3c-f092-4814-96db-0999e0d71b08'\n",
    "private_key = 'W/aIoaGsZoYJouTP3ppnjYuHNyJmxy9s'"
   ]
  },
  {
   "cell_type": "code",
   "execution_count": 3,
   "id": "538d7151-3e20-4d38-bf47-5a179015caf2",
   "metadata": {},
   "outputs": [],
   "source": [
    "import sys\n",
    "sys.path.append('../')"
   ]
  },
  {
   "cell_type": "code",
   "execution_count": 4,
   "id": "f6c6dd3f-ef82-4ed8-8dd8-0346b288d8dc",
   "metadata": {},
   "outputs": [],
   "source": [
    "import requests\n",
    "import threading\n",
    "\n",
    "import src\n",
    "from src.websocket_api import handlers\n",
    "from src.websocket_api import listeners\n",
    "import subprocess\n",
    "import logging\n",
    "logging.basicConfig(level=logging.INFO)"
   ]
  },
  {
   "cell_type": "code",
   "execution_count": 5,
   "id": "37c59211-6d0a-4126-9196-4ee7b5cc6a52",
   "metadata": {},
   "outputs": [],
   "source": [
    "items = list()\n",
    "for symbol in ['try']:\n",
    "    response = requests.get(f'https://api.btcturk.com/api/v2/ticker/currency?symbol={symbol}')\n",
    "    for item in response.json()['data']:\n",
    "        items.append(item['pair'])"
   ]
  },
  {
   "cell_type": "code",
   "execution_count": null,
   "id": "0ae5d61b-32f0-41c8-8fcb-e6b779134de9",
   "metadata": {},
   "outputs": [],
   "source": []
  },
  {
   "cell_type": "code",
   "execution_count": 6,
   "id": "d2c88214-c47c-48e2-af62-3306aca15b2d",
   "metadata": {},
   "outputs": [],
   "source": [
    "results = list()"
   ]
  },
  {
   "cell_type": "code",
   "execution_count": null,
   "id": "5999f653-87e3-47c6-9bee-414501bd86c4",
   "metadata": {},
   "outputs": [],
   "source": []
  },
  {
   "cell_type": "code",
   "execution_count": 7,
   "id": "5b07744a-dcb8-4152-a6fe-fb6a83458cb8",
   "metadata": {},
   "outputs": [],
   "source": [
    "def on_message(ws, message):\n",
    "    result = handlers.handle_channel_message(message)\n",
    "    global results\n",
    "    results += [result]\n",
    "    \n",
    "def on_error(*args):\n",
    "    print(args)\n",
    "    print()\n",
    "\n",
    "def on_close(*args):\n",
    "    print(args)"
   ]
  },
  {
   "cell_type": "code",
   "execution_count": null,
   "id": "e9b693b8-4ee8-46b0-8da9-b0d28d842d84",
   "metadata": {},
   "outputs": [],
   "source": []
  },
  {
   "cell_type": "code",
   "execution_count": 8,
   "id": "de37e9ec-5537-49d7-ae3d-d0d3b3434b72",
   "metadata": {},
   "outputs": [],
   "source": [
    "threads = list()"
   ]
  },
  {
   "cell_type": "code",
   "execution_count": null,
   "id": "54aa25c9-8860-489a-a78e-8d0f8001df7f",
   "metadata": {},
   "outputs": [],
   "source": []
  },
  {
   "cell_type": "code",
   "execution_count": 9,
   "id": "416e86e2-9112-4935-afe8-1fbfb9b4b17a",
   "metadata": {},
   "outputs": [],
   "source": [
    "for item in items:\n",
    "    _thread = threading.Thread(\n",
    "        target=listeners.get_listener,\n",
    "        kwargs={\n",
    "            'on_message': on_message,\n",
    "            'on_close': on_close,\n",
    "            'on_error': on_error,\n",
    "            'event': item,\n",
    "            'channel': 'trade',\n",
    "            'time_delay': 1\n",
    "        }\n",
    "    )\n",
    "    threads += [_thread]"
   ]
  },
  {
   "cell_type": "code",
   "execution_count": null,
   "id": "cbe9cb04-8880-4930-adf5-5d55aabd0f27",
   "metadata": {},
   "outputs": [],
   "source": []
  },
  {
   "cell_type": "code",
   "execution_count": 10,
   "id": "e14256bd-f167-4e85-af56-8880e08a5ab8",
   "metadata": {},
   "outputs": [],
   "source": [
    "def thread_control():\n",
    "    \n",
    "    while True:\n",
    "        import time\n",
    "        global threads\n",
    "        global results\n",
    "\n",
    "        counter = 0\n",
    "\n",
    "        for thread in threads:\n",
    "            if thread.is_alive():\n",
    "                continue\n",
    "            else:\n",
    "                counter += 1\n",
    "                thread.run()\n",
    "\n",
    "        print(f'Started threads {counter}')\n",
    "        print(f'Total records {len(results)}')\n",
    "\n",
    "        time.sleep(5)"
   ]
  },
  {
   "cell_type": "code",
   "execution_count": null,
   "id": "ca38c1b3-65c0-4fa8-aa45-5fd6f47f6895",
   "metadata": {},
   "outputs": [],
   "source": []
  },
  {
   "cell_type": "code",
   "execution_count": 11,
   "id": "0875563b-8ba1-4970-bf94-e8ac589a0a7d",
   "metadata": {},
   "outputs": [],
   "source": [
    "control = threading.Thread(\n",
    "    target=thread_control,\n",
    ")"
   ]
  },
  {
   "cell_type": "code",
   "execution_count": null,
   "id": "3937beab-a550-4d11-aff1-43ffd196288e",
   "metadata": {},
   "outputs": [],
   "source": []
  },
  {
   "cell_type": "code",
   "execution_count": 12,
   "id": "dbf23499-70ac-45c6-a948-8227ea63ebb3",
   "metadata": {},
   "outputs": [],
   "source": [
    "control.start()"
   ]
  },
  {
   "cell_type": "code",
   "execution_count": null,
   "id": "a16744c3-d4b8-4ebf-8f59-1e4b2cd5704a",
   "metadata": {},
   "outputs": [],
   "source": []
  },
  {
   "cell_type": "code",
   "execution_count": 18,
   "id": "1459708d-daa1-44de-93b6-da8695753393",
   "metadata": {},
   "outputs": [
    {
     "data": {
      "text/plain": [
       "721"
      ]
     },
     "execution_count": 18,
     "metadata": {},
     "output_type": "execute_result"
    }
   ],
   "source": [
    "len(results)"
   ]
  },
  {
   "cell_type": "code",
   "execution_count": null,
   "id": "77ddc235-4e56-43a5-827e-5aa3483ccc4f",
   "metadata": {},
   "outputs": [],
   "source": []
  },
  {
   "cell_type": "code",
   "execution_count": 58,
   "id": "d2d5da65-75a7-435b-8d82-d3c664f479d9",
   "metadata": {},
   "outputs": [],
   "source": [
    "import pickle"
   ]
  },
  {
   "cell_type": "code",
   "execution_count": null,
   "id": "668cef3e-05e2-472c-8e96-e01933da72f7",
   "metadata": {},
   "outputs": [],
   "source": [
    "with open('orderbook', 'wb') as f:\n",
    "    pickle.dump(results, f)"
   ]
  },
  {
   "cell_type": "code",
   "execution_count": null,
   "id": "d11f9ca5-8409-4b71-aa42-53f23510a882",
   "metadata": {},
   "outputs": [],
   "source": []
  }
 ],
 "metadata": {
  "kernelspec": {
   "display_name": "Python 3",
   "language": "python",
   "name": "python3"
  },
  "language_info": {
   "codemirror_mode": {
    "name": "ipython",
    "version": 3
   },
   "file_extension": ".py",
   "mimetype": "text/x-python",
   "name": "python",
   "nbconvert_exporter": "python",
   "pygments_lexer": "ipython3",
   "version": "3.8.3"
  }
 },
 "nbformat": 4,
 "nbformat_minor": 5
}
